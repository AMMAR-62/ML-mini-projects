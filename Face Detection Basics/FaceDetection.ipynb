{
 "cells": [
  {
   "cell_type": "code",
   "execution_count": 1,
   "metadata": {},
   "outputs": [],
   "source": [
    "import cv2 as cv\n",
    "import mediapipe as mp\n",
    "import time"
   ]
  },
  {
   "cell_type": "code",
   "execution_count": 10,
   "metadata": {},
   "outputs": [],
   "source": [
    "cam = cv.VideoCapture(\"static/1.mp4\")\n",
    "\n",
    "if not cam.isOpened():\n",
    "    print(\"video input can't be read\")\n",
    "    exit(0)\n",
    "\n",
    "pTime = 0\n",
    "\n",
    "while True:\n",
    "    ret, frame = cam.read()\n",
    "\n",
    "    cTime = time.time()\n",
    "    fps = 1/(cTime-pTime)\n",
    "    ptime = cTime\n",
    "\n",
    "    if ret:\n",
    "        scale_percent = 30\n",
    "        width = int(frame.shape[1] * scale_percent / 100)\n",
    "        height = int(frame.shape[0] * scale_percent / 100)\n",
    "        dim = (width, height)\n",
    "        frame = cv.resize(frame, dim)\n",
    "        \n",
    "        cv.putText(frame, str(int(fps)), (70,50), cv.FONT_HERSHEY_PLAIN, 3, (255,255,255), 3)\n",
    "        \n",
    "        cv.imshow(\"frames\", frame)\n",
    "        if cv.waitKey(25) & 0xFF == ord('q'):\n",
    "            break\n",
    "    else:\n",
    "        break\n",
    "\n",
    "cam.release()\n",
    "cv.destroyAllWindows()"
   ]
  }
 ],
 "metadata": {
  "interpreter": {
   "hash": "59959ffebd7c2b6da281e05f2d9049ecbc64f64f376674539b2b3556a24376db"
  },
  "kernelspec": {
   "display_name": "Python 3.8.10 64-bit",
   "language": "python",
   "name": "python3"
  },
  "language_info": {
   "codemirror_mode": {
    "name": "ipython",
    "version": 3
   },
   "file_extension": ".py",
   "mimetype": "text/x-python",
   "name": "python",
   "nbconvert_exporter": "python",
   "pygments_lexer": "ipython3",
   "version": "3.8.10"
  },
  "orig_nbformat": 4
 },
 "nbformat": 4,
 "nbformat_minor": 2
}
